{
  "nbformat": 4,
  "nbformat_minor": 0,
  "metadata": {
    "colab": {
      "name": "AI Chatbot.ipynb",
      "provenance": [],
      "collapsed_sections": []
    },
    "kernelspec": {
      "name": "python3",
      "display_name": "Python 3"
    },
    "language_info": {
      "name": "python"
    }
  },
  "cells": [
    {
      "cell_type": "code",
      "execution_count": null,
      "metadata": {
        "colab": {
          "base_uri": "https://localhost:8080/",
          "height": 373
        },
        "id": "Th9IEnvSD9tD",
        "outputId": "24be5e70-4c35-4625-c7b7-1a1b169021c8"
      },
      "outputs": [
        {
          "output_type": "error",
          "ename": "ModuleNotFoundError",
          "evalue": "ignored",
          "traceback": [
            "\u001b[0;31m---------------------------------------------------------------------------\u001b[0m",
            "\u001b[0;31mModuleNotFoundError\u001b[0m                       Traceback (most recent call last)",
            "\u001b[0;32m<ipython-input-6-ce15d8cd4991>\u001b[0m in \u001b[0;36m<module>\u001b[0;34m()\u001b[0m\n\u001b[0;32m----> 1\u001b[0;31m \u001b[0;32mimport\u001b[0m \u001b[0mSpeechRecognition\u001b[0m \u001b[0;32mas\u001b[0m \u001b[0msr\u001b[0m\u001b[0;34m\u001b[0m\u001b[0;34m\u001b[0m\u001b[0m\n\u001b[0m\u001b[1;32m      2\u001b[0m \u001b[0;32mimport\u001b[0m \u001b[0mpyjokes\u001b[0m\u001b[0;34m\u001b[0m\u001b[0;34m\u001b[0m\u001b[0m\n\u001b[1;32m      3\u001b[0m \u001b[0;32mimport\u001b[0m \u001b[0mpyttsx3\u001b[0m\u001b[0;34m\u001b[0m\u001b[0;34m\u001b[0m\u001b[0m\n\u001b[1;32m      4\u001b[0m \u001b[0;32mimport\u001b[0m \u001b[0mwebbrowser\u001b[0m\u001b[0;34m\u001b[0m\u001b[0;34m\u001b[0m\u001b[0m\n\u001b[1;32m      5\u001b[0m \u001b[0;32mimport\u001b[0m \u001b[0mtkinter\u001b[0m \u001b[0;32mas\u001b[0m \u001b[0mtk\u001b[0m\u001b[0;34m\u001b[0m\u001b[0;34m\u001b[0m\u001b[0m\n",
            "\u001b[0;31mModuleNotFoundError\u001b[0m: No module named 'SpeechRecognition'",
            "",
            "\u001b[0;31m---------------------------------------------------------------------------\u001b[0;32m\nNOTE: If your import is failing due to a missing package, you can\nmanually install dependencies using either !pip or !apt.\n\nTo view examples of installing some common dependencies, click the\n\"Open Examples\" button below.\n\u001b[0;31m---------------------------------------------------------------------------\u001b[0m\n"
          ],
          "errorDetails": {
            "actions": [
              {
                "action": "open_url",
                "actionText": "Open Examples",
                "url": "/notebooks/snippets/importing_libraries.ipynb"
              }
            ]
          }
        }
      ],
      "source": [
        "import SpeechRecognition as sr\n",
        "import pyjokes\n",
        "import pyttsx3\n",
        "import webbrowser\n",
        "import tkinter as tk\n",
        "import wikipedia\n",
        "engine = pyttsx3.init()\n",
        "voice_id = \"HKEY_LOCAL_MACHINE\\SOFTWARE\\Microsoft\\Speech\\Voices\\Tokens\\TTS_MS_EN-US_ZIRA_11.0\"\n",
        "#female voice id\n",
        "# Use female voice \n",
        "engine.setProperty('voice', voice_id) \n",
        "\n",
        "#some pre defined chats\n",
        "\n",
        "greetings=[\"hello\",\"hi\",\"hey\"]\n",
        "wish={\"morning\":\"Good morning\",\"night\":\"Good night\",\"care\":\"You too.\",\"bye\":\"Please don't go\"}\n",
        "silly={\"marry\":\"No, i have a boyfriend and i only date robots\",\"love\":\"I love myself\",\"hate\":\"lmao, look at your face \",\"children\":\"Oh please.\"}\n",
        "\n",
        "global answer\n",
        "global order\n",
        "\n",
        "def check(): #defining function\n",
        "        \n",
        "    r=sr.Recognizer()\n",
        "    with sr.Microphone() as source:\n",
        "        audio=r.listen(source)  #listening audio\n",
        "        order=r.recognize_google(audio,language=\"en-in\") #recognizing the audio\n",
        "    e2.insert(tk.END,order)  #insert in textarea\n",
        "    global x\n",
        "    x=order.split(' ')  #tokenizing the sentence\n",
        "    \n",
        "    #[do ,you ,have ,children] \n",
        "    \n",
        "    for word in x:\n",
        "        if word in greetings:   #creating random logic\n",
        "            answer=\"Hey, My name is Edu. Nice to meet you.\"\n",
        "            \n",
        "        elif word in wish:\n",
        "            answer=wish[word]\n",
        "            engine.say(answer)\n",
        "            engine.runAndWait()\n",
        "            e1.insert(tk.END, answer)\n",
        "            \n",
        "            \n",
        "        elif \"joke\" in x:\n",
        "            nj=pyjokes.get_joke()\n",
        "            engine.say(nj)\n",
        "            engine.runAndWait()\n",
        "            e1.insert(tk.END, nj)\n",
        "            break\n",
        "            \n",
        "            \n",
        "        elif \"play\" in x:  \n",
        "            webbrowser.open_new(f\"https://www.youtube.com/results?search_query={x[1]}\")\n",
        "            \n",
        "        elif \"search\" in x:\n",
        "            webbrowser.open_new(f\"https://www.youtube.com/results?search_query={x[1]}\")\n",
        "            \n",
        "        elif \"what\" in x or \"who\" in x:\n",
        "            \n",
        "            try:\n",
        "                order=order.replace(\"who\",\"\")\n",
        "        \n",
        "            except:\n",
        "                order=order.replace(\"what\",\"\")\n",
        "            answer=wikipedia.summary(order,sentences=1)\n",
        "            engine.say(answer)\n",
        "            engine.runAndWait()\n",
        "            e1.insert(tk.END, answer)\n",
        "            break\n",
        "\n",
        "            \n",
        "        elif word in silly:\n",
        "            answer=silly[word]\n",
        "            engine.say(answer)\n",
        "            engine.runAndWait()\n",
        "            e1.insert(tk.END, answer)\n",
        "            \n",
        "        elif \"quit\" in x:\n",
        "            root.destroy()\n",
        "            \n",
        "#creating GUI\n",
        "root=tk.Tk()\n",
        "root.geometry(\"200x300\")\n",
        "root.title(\"EDUYEAR\")\n",
        "root.configure(bg=\"black\")\n",
        "e1=tk.Text(root)\n",
        "l1=tk.Label(root,text=\"Output:\")\n",
        "l1.place(x=10,y=5)\n",
        "e1.place(x=10,y=35,height=50,width=180)\n",
        "e2=tk.Text(root)\n",
        "l=tk.Label(root,text=\"-----------------------------------\")\n",
        "l.place(x=10,y=90)\n",
        "l=tk.Label(root,text=\"You said:\")\n",
        "l.place(x=10,y=120)\n",
        "e2.place(x=10,y=150,height=30,width=180)\n",
        "b1=tk.Button(root,text=\"Speak\",bg=\"red\",fg=\"white\",command=check)\n",
        "b1.place(x=50,y=200,height=50,width=100)\n",
        "\n",
        "root.mainloop()\n",
        "\n",
        "    \n",
        "    "
      ]
    },
    {
      "cell_type": "code",
      "source": [
        "pip install speech_recognition "
      ],
      "metadata": {
        "colab": {
          "base_uri": "https://localhost:8080/"
        },
        "id": "DL9n0thApbtY",
        "outputId": "5a92dd7f-c499-49ad-ea8b-583f4aa3d95f"
      },
      "execution_count": null,
      "outputs": [
        {
          "output_type": "stream",
          "name": "stdout",
          "text": [
            "\u001b[31mERROR: Could not find a version that satisfies the requirement speech_recognition (from versions: none)\u001b[0m\n",
            "\u001b[31mERROR: No matching distribution found for speech_recognition\u001b[0m\n"
          ]
        }
      ]
    },
    {
      "cell_type": "code",
      "source": [
        "pip install SpeechRecognition"
      ],
      "metadata": {
        "colab": {
          "base_uri": "https://localhost:8080/"
        },
        "id": "sl5I8r8jpkcT",
        "outputId": "d419f566-8eab-4308-bc7c-3d2004aad09d"
      },
      "execution_count": null,
      "outputs": [
        {
          "output_type": "stream",
          "name": "stdout",
          "text": [
            "Collecting SpeechRecognition\n",
            "  Downloading SpeechRecognition-3.8.1-py2.py3-none-any.whl (32.8 MB)\n",
            "\u001b[K     |████████████████████████████████| 32.8 MB 1.2 MB/s \n",
            "\u001b[?25hInstalling collected packages: SpeechRecognition\n",
            "Successfully installed SpeechRecognition-3.8.1\n"
          ]
        }
      ]
    }
  ]
}